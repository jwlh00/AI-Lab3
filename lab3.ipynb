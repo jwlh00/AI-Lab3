{
 "cells": [
  {
   "attachments": {},
   "cell_type": "markdown",
   "metadata": {},
   "source": [
    "### Lab 4 - IA"
   ]
  },
  {
   "attachments": {},
   "cell_type": "markdown",
   "metadata": {},
   "source": [
    "### Task 1"
   ]
  },
  {
   "cell_type": "code",
   "execution_count": 71,
   "metadata": {},
   "outputs": [],
   "source": [
    "import numpy as np\n",
    "import matplotlib.pyplot as plt\n",
    "import pandas as pd\n",
    "import sklearn as sk\n",
    "import seaborn as sns\n",
    "from sklearn.linear_model import LinearRegression\n",
    "from sklearn.preprocessing import PolynomialFeatures\n",
    "from sklearn.model_selection import cross_val_score\n",
    "from sklearn.preprocessing import StandardScaler"
   ]
  },
  {
   "attachments": {},
   "cell_type": "markdown",
   "metadata": {},
   "source": [
    "### Task 1.1"
   ]
  },
  {
   "cell_type": "code",
   "execution_count": 72,
   "metadata": {},
   "outputs": [
    {
     "name": "stdout",
     "output_type": "stream",
     "text": [
      "[[7129300520 '20141013T000000' 221900.0 ... -122.257 1340 5650]\n",
      " [6414100192 '20141209T000000' 538000.0 ... -122.319 1690 7639]\n",
      " [5631500400 '20150225T000000' 180000.0 ... -122.233 2720 8062]\n",
      " ...\n",
      " [1523300141 '20140623T000000' 402101.0 ... -122.299 1020 2007]\n",
      " [291310100 '20150116T000000' 400000.0 ... -122.069 1410 1287]\n",
      " [1523300157 '20141015T000000' 325000.0 ... -122.299 1020 1357]]\n"
     ]
    },
    {
     "data": {
      "text/html": [
       "<div>\n",
       "<style scoped>\n",
       "    .dataframe tbody tr th:only-of-type {\n",
       "        vertical-align: middle;\n",
       "    }\n",
       "\n",
       "    .dataframe tbody tr th {\n",
       "        vertical-align: top;\n",
       "    }\n",
       "\n",
       "    .dataframe thead th {\n",
       "        text-align: right;\n",
       "    }\n",
       "</style>\n",
       "<table border=\"1\" class=\"dataframe\">\n",
       "  <thead>\n",
       "    <tr style=\"text-align: right;\">\n",
       "      <th></th>\n",
       "      <th>id</th>\n",
       "      <th>date</th>\n",
       "      <th>price</th>\n",
       "      <th>bedrooms</th>\n",
       "      <th>bathrooms</th>\n",
       "      <th>sqft_living</th>\n",
       "      <th>sqft_lot</th>\n",
       "      <th>floors</th>\n",
       "      <th>waterfront</th>\n",
       "      <th>view</th>\n",
       "      <th>...</th>\n",
       "      <th>grade</th>\n",
       "      <th>sqft_above</th>\n",
       "      <th>sqft_basement</th>\n",
       "      <th>yr_built</th>\n",
       "      <th>yr_renovated</th>\n",
       "      <th>zipcode</th>\n",
       "      <th>lat</th>\n",
       "      <th>long</th>\n",
       "      <th>sqft_living15</th>\n",
       "      <th>sqft_lot15</th>\n",
       "    </tr>\n",
       "  </thead>\n",
       "  <tbody>\n",
       "    <tr>\n",
       "      <th>0</th>\n",
       "      <td>7129300520</td>\n",
       "      <td>20141013T000000</td>\n",
       "      <td>221900.0</td>\n",
       "      <td>3</td>\n",
       "      <td>1.00</td>\n",
       "      <td>1180</td>\n",
       "      <td>5650</td>\n",
       "      <td>1.0</td>\n",
       "      <td>0</td>\n",
       "      <td>0</td>\n",
       "      <td>...</td>\n",
       "      <td>7</td>\n",
       "      <td>1180</td>\n",
       "      <td>0</td>\n",
       "      <td>1955</td>\n",
       "      <td>0</td>\n",
       "      <td>98178</td>\n",
       "      <td>47.5112</td>\n",
       "      <td>-122.257</td>\n",
       "      <td>1340</td>\n",
       "      <td>5650</td>\n",
       "    </tr>\n",
       "    <tr>\n",
       "      <th>1</th>\n",
       "      <td>6414100192</td>\n",
       "      <td>20141209T000000</td>\n",
       "      <td>538000.0</td>\n",
       "      <td>3</td>\n",
       "      <td>2.25</td>\n",
       "      <td>2570</td>\n",
       "      <td>7242</td>\n",
       "      <td>2.0</td>\n",
       "      <td>0</td>\n",
       "      <td>0</td>\n",
       "      <td>...</td>\n",
       "      <td>7</td>\n",
       "      <td>2170</td>\n",
       "      <td>400</td>\n",
       "      <td>1951</td>\n",
       "      <td>1991</td>\n",
       "      <td>98125</td>\n",
       "      <td>47.7210</td>\n",
       "      <td>-122.319</td>\n",
       "      <td>1690</td>\n",
       "      <td>7639</td>\n",
       "    </tr>\n",
       "    <tr>\n",
       "      <th>2</th>\n",
       "      <td>5631500400</td>\n",
       "      <td>20150225T000000</td>\n",
       "      <td>180000.0</td>\n",
       "      <td>2</td>\n",
       "      <td>1.00</td>\n",
       "      <td>770</td>\n",
       "      <td>10000</td>\n",
       "      <td>1.0</td>\n",
       "      <td>0</td>\n",
       "      <td>0</td>\n",
       "      <td>...</td>\n",
       "      <td>6</td>\n",
       "      <td>770</td>\n",
       "      <td>0</td>\n",
       "      <td>1933</td>\n",
       "      <td>0</td>\n",
       "      <td>98028</td>\n",
       "      <td>47.7379</td>\n",
       "      <td>-122.233</td>\n",
       "      <td>2720</td>\n",
       "      <td>8062</td>\n",
       "    </tr>\n",
       "    <tr>\n",
       "      <th>3</th>\n",
       "      <td>2487200875</td>\n",
       "      <td>20141209T000000</td>\n",
       "      <td>604000.0</td>\n",
       "      <td>4</td>\n",
       "      <td>3.00</td>\n",
       "      <td>1960</td>\n",
       "      <td>5000</td>\n",
       "      <td>1.0</td>\n",
       "      <td>0</td>\n",
       "      <td>0</td>\n",
       "      <td>...</td>\n",
       "      <td>7</td>\n",
       "      <td>1050</td>\n",
       "      <td>910</td>\n",
       "      <td>1965</td>\n",
       "      <td>0</td>\n",
       "      <td>98136</td>\n",
       "      <td>47.5208</td>\n",
       "      <td>-122.393</td>\n",
       "      <td>1360</td>\n",
       "      <td>5000</td>\n",
       "    </tr>\n",
       "    <tr>\n",
       "      <th>4</th>\n",
       "      <td>1954400510</td>\n",
       "      <td>20150218T000000</td>\n",
       "      <td>510000.0</td>\n",
       "      <td>3</td>\n",
       "      <td>2.00</td>\n",
       "      <td>1680</td>\n",
       "      <td>8080</td>\n",
       "      <td>1.0</td>\n",
       "      <td>0</td>\n",
       "      <td>0</td>\n",
       "      <td>...</td>\n",
       "      <td>8</td>\n",
       "      <td>1680</td>\n",
       "      <td>0</td>\n",
       "      <td>1987</td>\n",
       "      <td>0</td>\n",
       "      <td>98074</td>\n",
       "      <td>47.6168</td>\n",
       "      <td>-122.045</td>\n",
       "      <td>1800</td>\n",
       "      <td>7503</td>\n",
       "    </tr>\n",
       "  </tbody>\n",
       "</table>\n",
       "<p>5 rows × 21 columns</p>\n",
       "</div>"
      ],
      "text/plain": [
       "           id             date     price  bedrooms  bathrooms  sqft_living  \\\n",
       "0  7129300520  20141013T000000  221900.0         3       1.00         1180   \n",
       "1  6414100192  20141209T000000  538000.0         3       2.25         2570   \n",
       "2  5631500400  20150225T000000  180000.0         2       1.00          770   \n",
       "3  2487200875  20141209T000000  604000.0         4       3.00         1960   \n",
       "4  1954400510  20150218T000000  510000.0         3       2.00         1680   \n",
       "\n",
       "   sqft_lot  floors  waterfront  view  ...  grade  sqft_above  sqft_basement  \\\n",
       "0      5650     1.0           0     0  ...      7        1180              0   \n",
       "1      7242     2.0           0     0  ...      7        2170            400   \n",
       "2     10000     1.0           0     0  ...      6         770              0   \n",
       "3      5000     1.0           0     0  ...      7        1050            910   \n",
       "4      8080     1.0           0     0  ...      8        1680              0   \n",
       "\n",
       "   yr_built  yr_renovated  zipcode      lat     long  sqft_living15  \\\n",
       "0      1955             0    98178  47.5112 -122.257           1340   \n",
       "1      1951          1991    98125  47.7210 -122.319           1690   \n",
       "2      1933             0    98028  47.7379 -122.233           2720   \n",
       "3      1965             0    98136  47.5208 -122.393           1360   \n",
       "4      1987             0    98074  47.6168 -122.045           1800   \n",
       "\n",
       "   sqft_lot15  \n",
       "0        5650  \n",
       "1        7639  \n",
       "2        8062  \n",
       "3        5000  \n",
       "4        7503  \n",
       "\n",
       "[5 rows x 21 columns]"
      ]
     },
     "execution_count": 72,
     "metadata": {},
     "output_type": "execute_result"
    }
   ],
   "source": [
    "# Save CSV\n",
    "data = pd.read_csv('kc_house_data.csv')\n",
    "\n",
    "# To numpy array\n",
    "dataArray = data.values\n",
    "\n",
    "# Show Data\n",
    "print(dataArray)\n",
    "data.head()"
   ]
  },
  {
   "attachments": {},
   "cell_type": "markdown",
   "metadata": {},
   "source": [
    "### Task 1.2"
   ]
  },
  {
   "cell_type": "code",
   "execution_count": 74,
   "metadata": {},
   "outputs": [
    {
     "name": "stdout",
     "output_type": "stream",
     "text": [
      "Coeficientes: [[     0.         194061.14688911  38076.56482716   3901.07234096\n",
      "    -501.62431932]]\n",
      "Intercepto: [500405.51944446]\n",
      "R cuadrado: 0.5414433622843141\n"
     ]
    }
   ],
   "source": [
    "# Get Data\n",
    "price = dataArray[:, 2].reshape(-1, 1) \n",
    "sqftliving = dataArray[:, 5].reshape(-1, 1)\n",
    "\n",
    "# Create StandartScaler\n",
    "scaler = StandardScaler()\n",
    "scaler.fit(sqftliving)\n",
    "sqft_living_scaled = scaler.transform(sqftliving)\n",
    "\n",
    "poly = PolynomialFeatures(degree=4)\n",
    "X_poly = poly.fit_transform(sqft_living_scaled)\n",
    "linearReg = LinearRegression().fit(X_poly, price)\n",
    "\n",
    "# Get Results\n",
    "coef = linearReg.coef_\n",
    "inter = linearReg.intercept_\n",
    "r2 = linearReg.score(X_poly, price)\n",
    "\n",
    "print(\"Coeficientes:\", coef)\n",
    "print(\"Intercepto:\", inter)\n",
    "print(\"R cuadrado:\", r2)\n"
   ]
  },
  {
   "attachments": {},
   "cell_type": "markdown",
   "metadata": {},
   "source": [
    "### Task 1.3"
   ]
  },
  {
   "cell_type": "code",
   "execution_count": 75,
   "metadata": {},
   "outputs": [
    {
     "name": "stdout",
     "output_type": "stream",
     "text": [
      "sqrt size:  1000\n",
      "Price:  240675.5062148632\n"
     ]
    }
   ],
   "source": [
    "X = data[[\"sqft_living\"]].values\n",
    "y = data[[\"price\"]].values\n",
    "\n",
    "# Normalization\n",
    "X_norm = (X - np.mean(X, axis=0)) / np.std(X, axis=0)\n",
    "X_norm = np.hstack((np.ones((X_norm.shape[0], 1)), X_norm))\n",
    "\n",
    "# Gradiant Descent function\n",
    "def gradient_descent(X, y, alpha, iterations, batch_size):\n",
    "    m = len(y)\n",
    "    n_features = X.shape[1]\n",
    "    theta = np.zeros((n_features, 1))\n",
    "    num_batches = int(np.ceil(m / batch_size))\n",
    "    for i in range(iterations):\n",
    "        batches_X = np.array_split(X, num_batches)\n",
    "        batches_y = np.array_split(y, num_batches)\n",
    "        for X_batch, y_batch in zip(batches_X, batches_y):\n",
    "            h = X_batch @ theta\n",
    "            error = h - y_batch.reshape((-1, 1))\n",
    "            gradient = (1 / batch_size) * X_batch.T @ error\n",
    "            theta -= alpha * gradient\n",
    "    return theta\n",
    "\n",
    "# Preduction Function\n",
    "def prediccion(X, theta):\n",
    "    X_pred = np.hstack((np.ones((X.shape[0], 1)), X))\n",
    "    return np.dot(X_pred, theta)\n",
    "\n",
    "# Parameters\n",
    "alpha = 0.01\n",
    "iter = 4000\n",
    "size = 128\n",
    "\n",
    "\n",
    "theta = gradient_descent(X_norm, y, alpha, iter, size)\n",
    "\n",
    "# Get Prediction with given size\n",
    "size = 1000\n",
    "X_pred = np.array([[size]])\n",
    "X_pred_norm = (X_pred - np.mean(X, axis=0)) / np.std(X, axis=0)\n",
    "price = prediccion(X_pred_norm, theta)\n",
    "\n",
    "# Se imprime el resultado de la prediccion\n",
    "#print(f\"Precio estimado para una casa de {size} pies cuadrados: ${price[0,0]:,.2f}\")\n",
    "print(\"sqrt size: \", size)\n",
    "print(\"Price: \" , price[0,0])\n"
   ]
  },
  {
   "attachments": {},
   "cell_type": "markdown",
   "metadata": {},
   "source": [
    "### Task 1.4"
   ]
  },
  {
   "cell_type": "code",
   "execution_count": 76,
   "metadata": {},
   "outputs": [
    {
     "name": "stdout",
     "output_type": "stream",
     "text": [
      "El mejor grado del polinomio fue el:  4\n"
     ]
    }
   ],
   "source": [
    "# Get data needed\n",
    "X_data = data.iloc[:, -2].values\n",
    "y_data = data.iloc[:, 2].values\n",
    "\n",
    "# To store the scores\n",
    "scores = []\n",
    "\n",
    "# For loop to test each degree\n",
    "for i in range(1, 10):\n",
    "\n",
    "    polynomial = PolynomialFeatures(degree=i)\n",
    "    x_polynomial = polynomial.fit_transform(X_data.reshape(-1, 1)) \n",
    "\n",
    "    linear_model = LinearRegression()\n",
    "    score = cross_val_score(linear_model, x_polynomial, y_data, cv=7, scoring='r2')\n",
    "\n",
    "    scores.append(np.mean(score))\n",
    "\n",
    "best_score_idx = np.argmax(scores)\n",
    "best_score = best_score_idx + 1\n",
    "\n",
    "print(\"El mejor grado del polinomio fue el: \",  best_score)"
   ]
  },
  {
   "attachments": {},
   "cell_type": "markdown",
   "metadata": {},
   "source": [
    "### Task 1.5"
   ]
  },
  {
   "attachments": {},
   "cell_type": "markdown",
   "metadata": {},
   "source": [
    "Basándonos en la información proporcionada, podemos concluir que un modelo de regresión polinómica de grado 4 se ajusta bien a los datos, con un valor R-cuadrado de 0.54, lo que indica que el 54% de la variación en el precio puede ser explicada por el modelo. Los coeficientes obtenidos sugieren que a medida que aumenta el tamaño de la superficie habitable de la casa, también aumenta el precio de la casa. Sin embargo, el término de intercepción es relativamente alto, lo que implica que otros factores también pueden estar contribuyendo al precio de la casa. Finalmente, podemos ver que para una casa con una superficie de 1000 pies cuadrados, el modelo predice un precio de $ 240,675.50."
   ]
  }
 ],
 "metadata": {
  "kernelspec": {
   "display_name": "Python 3",
   "language": "python",
   "name": "python3"
  },
  "language_info": {
   "codemirror_mode": {
    "name": "ipython",
    "version": 3
   },
   "file_extension": ".py",
   "mimetype": "text/x-python",
   "name": "python",
   "nbconvert_exporter": "python",
   "pygments_lexer": "ipython3",
   "version": "3.10.10"
  },
  "orig_nbformat": 4
 },
 "nbformat": 4,
 "nbformat_minor": 2
}
