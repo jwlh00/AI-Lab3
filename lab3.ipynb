{
 "cells": [
  {
   "attachments": {},
   "cell_type": "markdown",
   "metadata": {},
   "source": [
    "### Lab 4 - IA"
   ]
  },
  {
   "attachments": {},
   "cell_type": "markdown",
   "metadata": {},
   "source": [
    "### Task 1"
   ]
  },
  {
   "cell_type": "code",
   "execution_count": 19,
   "metadata": {},
   "outputs": [],
   "source": [
    "import numpy as np\n",
    "import pandas as pd\n",
    "import matplotlib.pyplot as plt"
   ]
  },
  {
   "cell_type": "code",
   "execution_count": 20,
   "metadata": {},
   "outputs": [],
   "source": [
    "def gradient_descent(\n",
    "    theta_0,\n",
    "    cost_function,\n",
    "    cost_function_gradient,\n",
    "    learning_rate=0.01,\n",
    "    threshold=0.001,\n",
    "    max_iter=10000,\n",
    "    params=[]\n",
    "):\n",
    "    theta = theta_0\n",
    "    iteration = 0\n",
    "    costs = []\n",
    "    thetas = []\n",
    "\n",
    "    while np.linalg.norm(cost_function_gradient(theta, *params)) > threshold and iteration < max_iter:\n",
    "        iteration += 1\n",
    "        theta -= learning_rate * cost_function_gradient(theta, *params)\n",
    "        costs.append(cost_function(theta, *params))\n",
    "        thetas.append(theta.copy())\n",
    "\n",
    "    return theta, costs, thetas\n",
    "\n",
    "def linear_cost(theta, X, y, lmbd):\n",
    "    h = X @ theta\n",
    "    reg = (lmbd / (2 * len(X))) * (theta[1:] ** 2).sum()\n",
    "    return ((h - y) ** 2).sum() / (2 * len(X)) + reg\n",
    "\n",
    "\n",
    "def linear_cost_gradient(theta, X, y, lmbd):\n",
    "    h = X @ theta\n",
    "    theta_copy = theta.copy()\n",
    "    theta_copy[0] = 0\n",
    "    reg_prime = lmbd * theta_copy / len(X)\n",
    "    return ((X.T @ (h - y)) / len(X)) + reg_prime"
   ]
  },
  {
   "attachments": {},
   "cell_type": "markdown",
   "metadata": {},
   "source": [
    "### Task 1.1\n",
    "\n",
    "Leer el archivo CSV proporcionado (kc_house_data.csv dentro de lab4_dataset.zip) y almacenarlo en un p.array para\n",
    "ser trabajado en el notebook."
   ]
  },
  {
   "cell_type": "code",
   "execution_count": 21,
   "metadata": {},
   "outputs": [
    {
     "name": "stdout",
     "output_type": "stream",
     "text": [
      "[[7129300520 '20141013T000000' 221900.0 ... -122.257 1340 5650]\n",
      " [6414100192 '20141209T000000' 538000.0 ... -122.319 1690 7639]\n",
      " [5631500400 '20150225T000000' 180000.0 ... -122.233 2720 8062]\n",
      " ...\n",
      " [1523300141 '20140623T000000' 402101.0 ... -122.299 1020 2007]\n",
      " [291310100 '20150116T000000' 400000.0 ... -122.069 1410 1287]\n",
      " [1523300157 '20141015T000000' 325000.0 ... -122.299 1020 1357]]\n"
     ]
    },
    {
     "data": {
      "text/html": [
       "<div>\n",
       "<style scoped>\n",
       "    .dataframe tbody tr th:only-of-type {\n",
       "        vertical-align: middle;\n",
       "    }\n",
       "\n",
       "    .dataframe tbody tr th {\n",
       "        vertical-align: top;\n",
       "    }\n",
       "\n",
       "    .dataframe thead th {\n",
       "        text-align: right;\n",
       "    }\n",
       "</style>\n",
       "<table border=\"1\" class=\"dataframe\">\n",
       "  <thead>\n",
       "    <tr style=\"text-align: right;\">\n",
       "      <th></th>\n",
       "      <th>id</th>\n",
       "      <th>date</th>\n",
       "      <th>price</th>\n",
       "      <th>bedrooms</th>\n",
       "      <th>bathrooms</th>\n",
       "      <th>sqft_living</th>\n",
       "      <th>sqft_lot</th>\n",
       "      <th>floors</th>\n",
       "      <th>waterfront</th>\n",
       "      <th>view</th>\n",
       "      <th>...</th>\n",
       "      <th>grade</th>\n",
       "      <th>sqft_above</th>\n",
       "      <th>sqft_basement</th>\n",
       "      <th>yr_built</th>\n",
       "      <th>yr_renovated</th>\n",
       "      <th>zipcode</th>\n",
       "      <th>lat</th>\n",
       "      <th>long</th>\n",
       "      <th>sqft_living15</th>\n",
       "      <th>sqft_lot15</th>\n",
       "    </tr>\n",
       "  </thead>\n",
       "  <tbody>\n",
       "    <tr>\n",
       "      <th>0</th>\n",
       "      <td>7129300520</td>\n",
       "      <td>20141013T000000</td>\n",
       "      <td>221900.0</td>\n",
       "      <td>3</td>\n",
       "      <td>1.00</td>\n",
       "      <td>1180</td>\n",
       "      <td>5650</td>\n",
       "      <td>1.0</td>\n",
       "      <td>0</td>\n",
       "      <td>0</td>\n",
       "      <td>...</td>\n",
       "      <td>7</td>\n",
       "      <td>1180</td>\n",
       "      <td>0</td>\n",
       "      <td>1955</td>\n",
       "      <td>0</td>\n",
       "      <td>98178</td>\n",
       "      <td>47.5112</td>\n",
       "      <td>-122.257</td>\n",
       "      <td>1340</td>\n",
       "      <td>5650</td>\n",
       "    </tr>\n",
       "    <tr>\n",
       "      <th>1</th>\n",
       "      <td>6414100192</td>\n",
       "      <td>20141209T000000</td>\n",
       "      <td>538000.0</td>\n",
       "      <td>3</td>\n",
       "      <td>2.25</td>\n",
       "      <td>2570</td>\n",
       "      <td>7242</td>\n",
       "      <td>2.0</td>\n",
       "      <td>0</td>\n",
       "      <td>0</td>\n",
       "      <td>...</td>\n",
       "      <td>7</td>\n",
       "      <td>2170</td>\n",
       "      <td>400</td>\n",
       "      <td>1951</td>\n",
       "      <td>1991</td>\n",
       "      <td>98125</td>\n",
       "      <td>47.7210</td>\n",
       "      <td>-122.319</td>\n",
       "      <td>1690</td>\n",
       "      <td>7639</td>\n",
       "    </tr>\n",
       "    <tr>\n",
       "      <th>2</th>\n",
       "      <td>5631500400</td>\n",
       "      <td>20150225T000000</td>\n",
       "      <td>180000.0</td>\n",
       "      <td>2</td>\n",
       "      <td>1.00</td>\n",
       "      <td>770</td>\n",
       "      <td>10000</td>\n",
       "      <td>1.0</td>\n",
       "      <td>0</td>\n",
       "      <td>0</td>\n",
       "      <td>...</td>\n",
       "      <td>6</td>\n",
       "      <td>770</td>\n",
       "      <td>0</td>\n",
       "      <td>1933</td>\n",
       "      <td>0</td>\n",
       "      <td>98028</td>\n",
       "      <td>47.7379</td>\n",
       "      <td>-122.233</td>\n",
       "      <td>2720</td>\n",
       "      <td>8062</td>\n",
       "    </tr>\n",
       "    <tr>\n",
       "      <th>3</th>\n",
       "      <td>2487200875</td>\n",
       "      <td>20141209T000000</td>\n",
       "      <td>604000.0</td>\n",
       "      <td>4</td>\n",
       "      <td>3.00</td>\n",
       "      <td>1960</td>\n",
       "      <td>5000</td>\n",
       "      <td>1.0</td>\n",
       "      <td>0</td>\n",
       "      <td>0</td>\n",
       "      <td>...</td>\n",
       "      <td>7</td>\n",
       "      <td>1050</td>\n",
       "      <td>910</td>\n",
       "      <td>1965</td>\n",
       "      <td>0</td>\n",
       "      <td>98136</td>\n",
       "      <td>47.5208</td>\n",
       "      <td>-122.393</td>\n",
       "      <td>1360</td>\n",
       "      <td>5000</td>\n",
       "    </tr>\n",
       "    <tr>\n",
       "      <th>4</th>\n",
       "      <td>1954400510</td>\n",
       "      <td>20150218T000000</td>\n",
       "      <td>510000.0</td>\n",
       "      <td>3</td>\n",
       "      <td>2.00</td>\n",
       "      <td>1680</td>\n",
       "      <td>8080</td>\n",
       "      <td>1.0</td>\n",
       "      <td>0</td>\n",
       "      <td>0</td>\n",
       "      <td>...</td>\n",
       "      <td>8</td>\n",
       "      <td>1680</td>\n",
       "      <td>0</td>\n",
       "      <td>1987</td>\n",
       "      <td>0</td>\n",
       "      <td>98074</td>\n",
       "      <td>47.6168</td>\n",
       "      <td>-122.045</td>\n",
       "      <td>1800</td>\n",
       "      <td>7503</td>\n",
       "    </tr>\n",
       "  </tbody>\n",
       "</table>\n",
       "<p>5 rows × 21 columns</p>\n",
       "</div>"
      ],
      "text/plain": [
       "           id             date     price  bedrooms  bathrooms  sqft_living  \\\n",
       "0  7129300520  20141013T000000  221900.0         3       1.00         1180   \n",
       "1  6414100192  20141209T000000  538000.0         3       2.25         2570   \n",
       "2  5631500400  20150225T000000  180000.0         2       1.00          770   \n",
       "3  2487200875  20141209T000000  604000.0         4       3.00         1960   \n",
       "4  1954400510  20150218T000000  510000.0         3       2.00         1680   \n",
       "\n",
       "   sqft_lot  floors  waterfront  view  ...  grade  sqft_above  sqft_basement  \\\n",
       "0      5650     1.0           0     0  ...      7        1180              0   \n",
       "1      7242     2.0           0     0  ...      7        2170            400   \n",
       "2     10000     1.0           0     0  ...      6         770              0   \n",
       "3      5000     1.0           0     0  ...      7        1050            910   \n",
       "4      8080     1.0           0     0  ...      8        1680              0   \n",
       "\n",
       "   yr_built  yr_renovated  zipcode      lat     long  sqft_living15  \\\n",
       "0      1955             0    98178  47.5112 -122.257           1340   \n",
       "1      1951          1991    98125  47.7210 -122.319           1690   \n",
       "2      1933             0    98028  47.7379 -122.233           2720   \n",
       "3      1965             0    98136  47.5208 -122.393           1360   \n",
       "4      1987             0    98074  47.6168 -122.045           1800   \n",
       "\n",
       "   sqft_lot15  \n",
       "0        5650  \n",
       "1        7639  \n",
       "2        8062  \n",
       "3        5000  \n",
       "4        7503  \n",
       "\n",
       "[5 rows x 21 columns]"
      ]
     },
     "execution_count": 21,
     "metadata": {},
     "output_type": "execute_result"
    }
   ],
   "source": [
    "# Save CSV\n",
    "data_df = pd.read_csv('kc_house_data.csv')\n",
    "\n",
    "# To numpy array\n",
    "npArray = data_df.values\n",
    "\n",
    "# Show Data\n",
    "print(npArray)\n",
    "data_df.head()"
   ]
  },
  {
   "attachments": {},
   "cell_type": "markdown",
   "metadata": {},
   "source": [
    "### Task 1.2\n",
    "\n",
    "Ajustar un modelo polinomial (regresión lineal) en base al juego de datos cargado de forma matricial que relaciona\n",
    "las variables de precio con los pies cuadrados del espacio habitable interior de los apartamentos (price - sqft living)"
   ]
  },
  {
   "cell_type": "code",
   "execution_count": 22,
   "metadata": {},
   "outputs": [],
   "source": [
    "# Get the desired values from the nested arrays\n",
    "price = npArray[:, 2].astype(int) # Value to predict\n",
    "sqft_living = npArray[:, 5].astype(int) # Value to train the model\n",
    "\n",
    "# Create a matrix X for linear regression with an additional column of ones for the bias term\n",
    "X = np.vstack((np.ones(len(sqft_living)), sqft_living)).T\n",
    "\n",
    "# Reshape the price array to be a column vector\n",
    "y = price.reshape(-1, 1)\n",
    "\n",
    "# Initialize the parameters for gradient descent\n",
    "theta = np.random.rand(2, 1)\n"
   ]
  },
  {
   "attachments": {},
   "cell_type": "markdown",
   "metadata": {},
   "source": [
    "### Task 1.3\n",
    "\n",
    "Utilice la implementación vectorial del algoritmo de regresión lineal (descenso del gradiente visto en clase)"
   ]
  },
  {
   "cell_type": "code",
   "execution_count": 23,
   "metadata": {},
   "outputs": [
    {
     "name": "stdout",
     "output_type": "stream",
     "text": [
      "Optimal parameters: [[  0.75321329]\n",
      " [263.08888583]]\n",
      "Final cost: 34330599974.735283\n"
     ]
    },
    {
     "data": {
      "image/png": "[encoded data removed]",
      "text/plain": [
       "<Figure size 640x480 with 1 Axes>"
      ]
     },
     "metadata": {},
     "output_type": "display_data"
    }
   ],
   "source": [
    "# Define the hyperparameters for gradient descent\n",
    "learning_rate = 0.000000001\n",
    "threshold = 0.001\n",
    "max_iter = 10000\n",
    "\n",
    "# Define the regularization parameter\n",
    "lmbd = 1\n",
    "\n",
    "# Perform gradient descent to find the optimal parameters\n",
    "theta, costs, _ = gradient_descent(\n",
    "    theta,\n",
    "    linear_cost,\n",
    "    linear_cost_gradient,\n",
    "    learning_rate=learning_rate,\n",
    "    threshold=threshold,\n",
    "    max_iter=max_iter,\n",
    "    params=[X, y, lmbd]\n",
    ")\n",
    "\n",
    "# Print the optimal parameters and the final cost\n",
    "print(\"Optimal parameters:\", theta)\n",
    "print(\"Final cost:\", linear_cost(theta, X, y, lmbd))\n",
    "\n",
    "# Plot the data and the regression line\n",
    "plt.scatter(sqft_living, price)\n",
    "plt.plot(sqft_living, X @ theta, color='green')\n",
    "plt.show()"
   ]
  },
  {
   "attachments": {},
   "cell_type": "markdown",
   "metadata": {},
   "source": [
    "### Task 1.4\n",
    "\n",
    "Usando cross-validation determine el grado del polinomio que mejor describe la nube de puntos (encuentre el mejor\n",
    "balance entre apego a los datos de entrenamiento y generalización para datos previamente no observados)."
   ]
  },
  {
   "cell_type": "code",
   "execution_count": 24,
   "metadata": {},
   "outputs": [
    {
     "name": "stdout",
     "output_type": "stream",
     "text": [
      "Best polynomial degree: 6\n"
     ]
    },
    {
     "data": {
      "image/png": "[encoded data removed]",
      "text/plain": [
       "<Figure size 640x480 with 1 Axes>"
      ]
     },
     "metadata": {},
     "output_type": "display_data"
    }
   ],
   "source": [
    "# Define the number of folds for cross-validation\n",
    "num_folds = 10\n",
    "\n",
    "# Initialize the array to store the average error for each polynomial degree\n",
    "avg_error = np.zeros(10)\n",
    "\n",
    "\n",
    "# Perform cross-validation using polynomial regression\n",
    "for i in range(num_folds):\n",
    "    # Divide the data into training and testing sets\n",
    "    start, end = i * len(sqft_living) // num_folds, (i + 1) * len(sqft_living) // num_folds\n",
    "    X_train = np.concatenate((X[:start], X[end:]))\n",
    "    y_train = np.concatenate((y[:start], y[end:]))\n",
    "    X_test = X[start:end]\n",
    "    y_test = y[start:end]\n",
    "\n",
    "    for degree in range(1, 11):\n",
    "        # Perform polynomial regression on the training data\n",
    "        poly_X_train = np.column_stack([X_train[:, 1]**d for d in range(1, degree+1)])\n",
    "        poly_X_test = np.column_stack([X_test[:, 1]**d for d in range(1, degree+1)])\n",
    "        coef = np.linalg.inv(poly_X_train.T @ poly_X_train) @ poly_X_train.T @ y_train\n",
    "\n",
    "        # Calculate the predicted values on the test set and compute the mean squared error\n",
    "        y_pred = poly_X_test @ coef\n",
    "        mse = ((y_pred - y_test) ** 2).mean()\n",
    "\n",
    "        # Update the average error for this degree\n",
    "        avg_error[degree-1] += mse\n",
    "\n",
    "# Divide the total error by the number of folds to get the average error for each degree\n",
    "avg_error /= num_folds\n",
    "\n",
    "# Find the degree with the lowest average error and print it\n",
    "best_degree = np.argmin(avg_error) + 1\n",
    "print(\"Best polynomial degree:\", best_degree)\n",
    "\n",
    "# Plot the average error as a function of the polynomial degree\n",
    "plt.plot(range(1, 11), avg_error)\n",
    "plt.xlabel('Polynomial Degree')\n",
    "plt.ylabel('Average Error')\n",
    "plt.show()"
   ]
  },
  {
   "attachments": {},
   "cell_type": "markdown",
   "metadata": {},
   "source": [
    "### Task 1.5\n",
    "\n",
    "Haga un análisis sobre sus hallazgos"
   ]
  },
  {
   "attachments": {},
   "cell_type": "markdown",
   "metadata": {},
   "source": [
    "Observando el modelo de regresion lineal utlizado en este laboratorio, se puede observar que al realizar el algoritmo de regresion lineal con la funcion de descenso del gradiante, se obtiene unos resultados considerablemente precisos. Esto se puede observar en el grafico que se crea ya que la linea creada y la gran cantidad de datos se bien corelacionados y que estan creciendo de la misma manera. Luego se realizo cross-validation para encontrrar el grado de polinomio que mejor describa la punto y se utilizo 10 grados para encontrarlo. Donde se encontro que el mejor grado es el de 6. Adicionalmente tambien se ve que el grado 10 es el peor ya que hay un salto enorme de promedio de error al estar en el grado 10, como se puede observar en el grafico."
   ]
  }
 ],
 "metadata": {
  "kernelspec": {
   "display_name": "Python 3",
   "language": "python",
   "name": "python3"
  },
  "language_info": {
   "codemirror_mode": {
    "name": "ipython",
    "version": 3
   },
   "file_extension": ".py",
   "mimetype": "text/x-python",
   "name": "python",
   "nbconvert_exporter": "python",
   "pygments_lexer": "ipython3",
   "version": "3.10.10"
  },
  "orig_nbformat": 4
 },
 "nbformat": 4,
 "nbformat_minor": 2
}
